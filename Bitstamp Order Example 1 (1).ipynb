{
 "cells": [
  {
   "cell_type": "code",
   "execution_count": 1,
   "metadata": {},
   "outputs": [],
   "source": [
    "import requests\n",
    "import hashlib\n",
    "import uuid\n",
    "import datetime as datetime\n",
    "import pandas as pd\n",
    "import hmac\n",
    "import time\n",
    "from time import sleep\n",
    "import sys"
   ]
  },
  {
   "cell_type": "code",
   "execution_count": 2,
   "metadata": {},
   "outputs": [],
   "source": [
    "client_id = 'YOUR-ID-HERE'\n",
    "api_key = 'YOUR-API-KEY-HERE'\n",
    "API_SECRET = b'YOUR-API-SECRET-HERE'"
   ]
  },
  {
   "cell_type": "code",
   "execution_count": 4,
   "metadata": {},
   "outputs": [
    {
     "name": "stdout",
     "output_type": "stream",
     "text": [
      "Error making order request\n"
     ]
    },
    {
     "ename": "TypeError",
     "evalue": "'Response' object is not subscriptable",
     "output_type": "error",
     "traceback": [
      "\u001b[1;31m---------------------------------------------------------------------------\u001b[0m",
      "\u001b[1;31mTypeError\u001b[0m                                 Traceback (most recent call last)",
      "\u001b[1;32m<ipython-input-4-fa8563ebec47>\u001b[0m in \u001b[0;36m<module>\u001b[1;34m\u001b[0m\n\u001b[0;32m     64\u001b[0m \u001b[1;33m\u001b[0m\u001b[0m\n\u001b[0;32m     65\u001b[0m         \u001b[0msleep\u001b[0m\u001b[1;33m(\u001b[0m\u001b[1;36m2\u001b[0m\u001b[1;33m)\u001b[0m\u001b[1;33m\u001b[0m\u001b[1;33m\u001b[0m\u001b[0m\n\u001b[1;32m---> 66\u001b[1;33m         \u001b[0morder_id\u001b[0m \u001b[1;33m=\u001b[0m \u001b[0mr\u001b[0m\u001b[1;33m[\u001b[0m\u001b[1;34m'content'\u001b[0m\u001b[1;33m]\u001b[0m\u001b[1;33m[\u001b[0m\u001b[1;34m'id'\u001b[0m\u001b[1;33m]\u001b[0m\u001b[1;33m\u001b[0m\u001b[1;33m\u001b[0m\u001b[0m\n\u001b[0m\u001b[0;32m     67\u001b[0m         \u001b[0mtimestamp\u001b[0m \u001b[1;33m=\u001b[0m \u001b[0mstr\u001b[0m\u001b[1;33m(\u001b[0m\u001b[0mint\u001b[0m\u001b[1;33m(\u001b[0m\u001b[0mround\u001b[0m\u001b[1;33m(\u001b[0m\u001b[0mtime\u001b[0m\u001b[1;33m.\u001b[0m\u001b[0mtime\u001b[0m\u001b[1;33m(\u001b[0m\u001b[1;33m)\u001b[0m \u001b[1;33m*\u001b[0m \u001b[1;36m1000\u001b[0m\u001b[1;33m)\u001b[0m\u001b[1;33m)\u001b[0m\u001b[1;33m)\u001b[0m\u001b[1;33m\u001b[0m\u001b[1;33m\u001b[0m\u001b[0m\n\u001b[0;32m     68\u001b[0m         \u001b[0mnew_nonce\u001b[0m \u001b[1;33m=\u001b[0m \u001b[0mstr\u001b[0m\u001b[1;33m(\u001b[0m\u001b[0muuid\u001b[0m\u001b[1;33m.\u001b[0m\u001b[0muuid4\u001b[0m\u001b[1;33m(\u001b[0m\u001b[1;33m)\u001b[0m\u001b[1;33m)\u001b[0m\u001b[1;33m\u001b[0m\u001b[1;33m\u001b[0m\u001b[0m\n",
      "\u001b[1;31mTypeError\u001b[0m: 'Response' object is not subscriptable"
     ]
    }
   ],
   "source": [
    "while True:\n",
    "    try:\n",
    "        btc_data = requests.get('https://www.bitstamp.net/api/ticker/BTC').json()\n",
    "    except Excpetion as e:\n",
    "        print('Error obtaining BTC data')\n",
    "    \n",
    "    \n",
    "    if float(btc_data['last']) >= 34000.00:\n",
    "        try:\n",
    "            timestamp = str(int(round(time.time() * 1000)))\n",
    "            nonce = str(uuid.uuid4())\n",
    "            content_type = 'application/x-www-form-urlencoded'\n",
    "            payload = {'amount' : 0.001,\n",
    "                       }\n",
    "\n",
    "            if sys.version_info.major >= 3:\n",
    "                from urllib.parse import urlencode\n",
    "            else:\n",
    "                from urllib import urlencode\n",
    "\n",
    "            payload_string = urlencode(payload)\n",
    "\n",
    "\n",
    "            message = 'BITSTAMP ' + api_key + \\\n",
    "                'POST' + \\\n",
    "                'www.bitstamp.net' + \\\n",
    "                '/api/v2/buy/market/' + \\\n",
    "                'ETH' + \\\n",
    "                content_type + \\\n",
    "                nonce + \\\n",
    "                timestamp + \\\n",
    "                'v2' + \\\n",
    "                payload_string\n",
    "\n",
    "            message = message.encode('utf-8')\n",
    "            signature = hmac.new(API_SECRET, msg=message, digestmod=hashlib.sha256).hexdigest()\n",
    "            headers = {\n",
    "                'X-Auth': 'BITSTAMP ' + api_key,\n",
    "                'X-Auth-Signature': signature,\n",
    "                'X-Auth-Nonce': nonce,\n",
    "                'X-Auth-Timestamp': timestamp,\n",
    "                'X-Auth-Version': 'v2',\n",
    "                'Content-Type': content_type\n",
    "                }\n",
    "\n",
    "            r = requests.post(\n",
    "                'https://www.bitstamp.net/api/v2/buy/market/ETH',\n",
    "                headers=headers,\n",
    "                data=payload_string\n",
    "                )\n",
    "\n",
    "            if not r.status_code == 200:\n",
    "                raise Exception('Status code not 200')\n",
    "\n",
    "            string_to_sign = (nonce + timestamp + r.headers.get('Content-Type')).encode('utf-8') + r.content\n",
    "            signature_check = hmac.new(API_SECRET, msg=string_to_sign, digestmod=hashlib.sha256).hexdigest()\n",
    "            if not r.headers.get('X-Server-Auth-Signature') == signature_check:\n",
    "                raise Exception('Signatures do not match')\n",
    "\n",
    "            print(r.content)\n",
    "\n",
    "        except Exception as e:\n",
    "            print('Error making order request')\n",
    "         \n",
    "        sleep(2)\n",
    "        order_id = r['content']['id']\n",
    "        timestamp = str(int(round(time.time() * 1000)))\n",
    "        new_nonce = str(uuid.uuid4())\n",
    "        headers = {\n",
    "                'X-Auth': 'BITSTAMP ' + api_key,\n",
    "                'X-Auth-Signature': signature,\n",
    "                'X-Auth-Nonce': new_nonce,\n",
    "                'X-Auth-Timestamp': timestamp,\n",
    "                'X-Auth-Version': 'v2',\n",
    "                'Content-Type': content_type\n",
    "                }\n",
    "        try:\n",
    "            r = requests.post(\n",
    "                'https://www.bitstamp.net/api/v2/order_status/',\n",
    "                headers=headers,\n",
    "                params = {'id': order_id}\n",
    "                )\n",
    "        except Exception as e:\n",
    "            print('Error checking for order status')\n",
    "            \n",
    "        if r['content']['status'] == 'Open':\n",
    "            print ('Order placed at {}'.format(pd.Timestamp.now()))\n",
    "            break\n",
    "        else:\n",
    "            print('Order was canceled {}'.format(pd.Timestamp.now()))\n",
    "            break\n",
    "        \n",
    "        "
   ]
  },
  {
   "cell_type": "code",
   "execution_count": null,
   "metadata": {},
   "outputs": [],
   "source": []
  }
 ],
 "metadata": {
  "kernelspec": {
   "display_name": "Python 3",
   "language": "python",
   "name": "python3"
  },
  "language_info": {
   "codemirror_mode": {
    "name": "ipython",
    "version": 3
   },
   "file_extension": ".py",
   "mimetype": "text/x-python",
   "name": "python",
   "nbconvert_exporter": "python",
   "pygments_lexer": "ipython3",
   "version": "3.8.3"
  }
 },
 "nbformat": 4,
 "nbformat_minor": 4
}
